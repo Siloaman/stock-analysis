{
 "cells": [
  {
   "cell_type": "code",
   "execution_count": 1,
   "id": "b285bdb2",
   "metadata": {},
   "outputs": [],
   "source": [
    "import requests\n",
    "import pandas as pd\n",
    "from bs4 import BeautifulSoup as soup\n",
    "import time"
   ]
  },
  {
   "cell_type": "markdown",
   "id": "99553bda",
   "metadata": {},
   "source": [
    "# GRAB ALL TICKERS INSIDE PRICE (MIN-MAX) RANGE"
   ]
  },
  {
   "cell_type": "code",
   "execution_count": 2,
   "id": "7007fee0",
   "metadata": {},
   "outputs": [
    {
     "name": "stdout",
     "output_type": "stream",
     "text": [
      "Length of Pages[]: 5\n",
      "Elapsed Time: 9.022577285766602\n"
     ]
    }
   ],
   "source": [
    "pages = []\n",
    "tickers_list = []\n",
    "tickers_group_list = []\n",
    "\n",
    "ticker_skip = 1875\n",
    "price_min = 5.00\n",
    "price_max = 25.00\n",
    "valid_page_status = True\n",
    "\n",
    "start_time = time.time()\n",
    "url = \"\" # previously outside while loop\n",
    "\n",
    "while (valid_page_status):    \n",
    "    \n",
    "    url =   f\"\"\"\n",
    "        https://www.marketwatch.com/tools/screener/stock?exchange=all&skip={ticker_skip}\n",
    "        &orderbyfield=&direction=desc\n",
    "        &visiblecolumns=Symbol,CompanyName,Price,NetChange,ChangePercent,Volume\n",
    "        &pricemin={price_min}&pricemax={price_max}\n",
    "        \"\"\" # must be inside while loop because {page_skip} won't update if outside of it...\n",
    "\n",
    "    page = requests.get(url)\n",
    "    soup_obj = soup(page.content, 'html.parser')\n",
    "    ticker_skip += 25\n",
    "    \n",
    "    cells_found = soup_obj.find(class_=\"table__cell j-Symbol\")\n",
    "\n",
    "    if(cells_found):\n",
    "        pages.append(url)\n",
    "    else:\n",
    "        valid_page_status = False\n",
    "    \n",
    "end_time = time.time()\n",
    "elapsed_time = end_time - start_time\n",
    "print(f\"Length of Pages[]: {len(pages)}\")    \n",
    "print(f\"Elapsed Time: {elapsed_time}\")"
   ]
  },
  {
   "cell_type": "code",
   "execution_count": 3,
   "id": "5e991894",
   "metadata": {},
   "outputs": [
    {
     "name": "stdout",
     "output_type": "stream",
     "text": [
      "Size of Ticker List: 105\n",
      "['ANAB', 'AMX', 'AMTX', 'AMTB', 'AMSWA', 'AMSC', 'AMPY', 'AMPS', 'AMPL', 'AMLX', 'AMCX', 'AMCR', 'AMC', 'AMBI', 'AMBC', 'AMAM', 'AMAL', 'AM', 'ALVO', 'ALTU', 'ALTI', 'ALTG', 'ALRS', 'ALPN', 'ALOT', 'ALKT', 'ALIT', 'ALHC', 'ALEX', 'ALEC', 'ALDX', 'ALCO', 'ALCC', 'AKYA', 'AKR', 'AKO.B', 'AKO.A', 'AJX', 'AIV', 'AIRT', 'AIRS', 'AIP', 'AINC', 'AHH', 'AHCO', 'AGTI', 'AGS', 'AGRO', 'AGNC', 'AGL', 'AGI', 'AG', 'AFYA', 'AFRM', 'AFRI', 'AFCG', 'AFBI', 'AESI', 'AES', 'AEO', 'AEG', 'AEAE', 'ADTX', 'ADTN', 'ADT', 'ADSE', 'ADRT', 'ADPT', 'ADOC', 'ADEX', 'ADER', 'ADEA', 'ACVA', 'ACRV', 'ACRS', 'ACRE', 'ACR', 'ACOR', 'ACNT', 'ACMR', 'ACIW', 'ACIC', 'ACI', 'ACHR', 'ACEL', 'ACDC', 'ACCO', 'ACCD', 'ACBA', 'ACAX', 'ACAC', 'ACAB', 'ABR', 'ABOS', 'ABL', 'ABCM', 'ABCL', 'AAT', 'AAOI', 'AAN', 'AAMC', 'AAL', 'AADI', 'AACT', 'AAC']\n"
     ]
    }
   ],
   "source": [
    "for item in pages:\n",
    "    page = requests.get(item)\n",
    "\n",
    "    #soup_obj = soup(page.content, 'html.parser') \n",
    "    # https://stackoverflow.com/questions/49075563/typeerror-resultset-object-is-not-callable-python-with-beautifulsoup\n",
    "    df = pd.read_html(page.content)\n",
    "\n",
    "    tickers = df[0]\n",
    "    tickers = tickers[\"Symbol\"]\n",
    "    \n",
    "    # WHY MUST I ADD THEM INDIVIDUALLY VS. AS A GROUP ???\n",
    "    for t in tickers:\n",
    "        tickers_list.append(t)\n",
    "        \n",
    "    tickers_group_list.append(tickers)    \n",
    "    \n",
    "print(f\"Size of Ticker List: {len(tickers_list)}\")"
   ]
  },
  {
   "cell_type": "markdown",
   "id": "bc781ef6",
   "metadata": {},
   "source": [
    "# GRAB PRICE CHART TABLES FOR EVERY TICKER"
   ]
  },
  {
   "cell_type": "code",
   "execution_count": null,
   "id": "aafb79cc",
   "metadata": {},
   "outputs": [],
   "source": []
  }
 ],
 "metadata": {
  "kernelspec": {
   "display_name": "Python 3 (ipykernel)",
   "language": "python",
   "name": "python3"
  },
  "language_info": {
   "codemirror_mode": {
    "name": "ipython",
    "version": 3
   },
   "file_extension": ".py",
   "mimetype": "text/x-python",
   "name": "python",
   "nbconvert_exporter": "python",
   "pygments_lexer": "ipython3",
   "version": "3.10.9"
  }
 },
 "nbformat": 4,
 "nbformat_minor": 5
}
