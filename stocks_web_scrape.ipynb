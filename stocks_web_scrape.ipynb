{
 "cells": [
  {
   "cell_type": "code",
   "execution_count": null,
   "id": "b285bdb2",
   "metadata": {},
   "outputs": [],
   "source": [
    "import requests\n",
    "import pandas as pd\n",
    "from bs4 import BeautifulSoup as soup\n",
    "import time"
   ]
  },
  {
   "cell_type": "markdown",
   "id": "1d85965f",
   "metadata": {},
   "source": [
    "# GRAB ALL TICKERS INSIDE PRICE (MIN-MAX) RANGE"
   ]
  },
  {
   "cell_type": "code",
   "execution_count": null,
   "id": "7007fee0",
   "metadata": {},
   "outputs": [],
   "source": [
    "pages = []\n",
    "tickers_list = []\n",
    "tickers_group_list = []\n",
    "\n",
    "ticker_skip = 0\n",
    "price_min = 5.00\n",
    "price_max = 25.00\n",
    "valid_page_status = True\n",
    "\n",
    "start_time = time.time()\n",
    "\n",
    "while (valid_page_status):    \n",
    "    \n",
    "    url =   f\"\"\"\n",
    "        https://www.marketwatch.com/tools/screener/stock?exchange=all&skip={ticker_skip}\n",
    "        &orderbyfield=&direction=desc\n",
    "        &visiblecolumns=Symbol,CompanyName,Price,NetChange,ChangePercent,Volume\n",
    "        &pricemin={price_min}&pricemax={price_max}\n",
    "        \"\"\" # must be inside while loop because {page_skip} won't update if outside of it...\n",
    "\n",
    "    page = requests.get(url)\n",
    "    soup_obj = soup(page.content, 'html.parser')\n",
    "    ticker_skip += 25\n",
    "    \n",
    "    cells_found = soup_obj.find(class_=\"table__cell j-Symbol\")\n",
    "\n",
    "    if(cells_found):\n",
    "        pages.append(url)\n",
    "    else:\n",
    "        valid_page_status = False\n",
    "    \n",
    "end_time = time.time()\n",
    "elapsed_time = end_time - start_time\n",
    "print(f\"Length of Pages[]: {len(pages)}\")    \n",
    "print(f\"Elapsed Time: {elapsed_time}\")"
   ]
  },
  {
   "cell_type": "code",
   "execution_count": null,
   "id": "5e991894",
   "metadata": {},
   "outputs": [],
   "source": [
    "for item in pages:\n",
    "    page = requests.get(item)\n",
    "\n",
    "    df = pd.read_html(page.content)\n",
    "\n",
    "    tickers = df[0]\n",
    "    tickers = tickers[\"Symbol\"]\n",
    "    \n",
    "    for t in tickers:\n",
    "        tickers_list.append(t)\n",
    "        \n",
    "    tickers_group_list.append(tickers)"
   ]
  },
  {
   "cell_type": "markdown",
   "id": "da7c22e4",
   "metadata": {},
   "source": [
    "# GRAB PRICE CHART TABLES FOR EVERY TICKER"
   ]
  },
  {
   "cell_type": "code",
   "execution_count": null,
   "id": "c4666d45",
   "metadata": {},
   "outputs": [],
   "source": []
  }
 ],
 "metadata": {
  "kernelspec": {
   "display_name": "Python 3 (ipykernel)",
   "language": "python",
   "name": "python3"
  },
  "language_info": {
   "codemirror_mode": {
    "name": "ipython",
    "version": 3
   },
   "file_extension": ".py",
   "mimetype": "text/x-python",
   "name": "python",
   "nbconvert_exporter": "python",
   "pygments_lexer": "ipython3",
   "version": "3.10.9"
  }
 },
 "nbformat": 4,
 "nbformat_minor": 5
}
